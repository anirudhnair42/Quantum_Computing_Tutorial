{
  "nbformat": 4,
  "nbformat_minor": 0,
  "metadata": {
    "colab": {
      "name": "Q_Final_Project",
      "provenance": []
    },
    "kernelspec": {
      "name": "python3",
      "display_name": "Python 3"
    }
  },
  "cells": [
    {
      "cell_type": "markdown",
      "metadata": {
        "id": "UfZ5kcy0b79u"
      },
      "source": [
        "#Implementing the Variational Quantum Eigensolver using tket and qiskit\n"
      ]
    },
    {
      "cell_type": "code",
      "metadata": {
        "id": "br2RyPVhBblM"
      },
      "source": [
        "from openfermion import QubitOperator\n",
        "\n",
        "#defining the hamiltonian for which we are trying to find the ground state.\n",
        "hamiltonian = (-0.8153001706270075 * QubitOperator('') +\n",
        "    0.16988452027940318 * QubitOperator('Z0') +\n",
        "    -0.21886306781219608 * QubitOperator('Z1') +\n",
        "    0.16988452027940323 * QubitOperator('Z2') +\n",
        "    -0.2188630678121961 * QubitOperator('Z3') +\n",
        "    0.12005143072546047 * QubitOperator('Z0 Z1') +\n",
        "    0.16821198673715723 * QubitOperator('Z0 Z2') +\n",
        "    0.16549431486978672 * QubitOperator('Z0 Z3') +\n",
        "    0.16549431486978672 * QubitOperator('Z1 Z2') +\n",
        "    0.1739537877649417 * QubitOperator('Z1 Z3') +\n",
        "    0.12005143072546047 * QubitOperator('Z2 Z3') +\n",
        "    0.04544288414432624 * QubitOperator('X0 X1 X2 X3') +\n",
        "    0.04544288414432624 * QubitOperator('X0 X1 Y2 Y3') +\n",
        "    0.04544288414432624 * QubitOperator('Y0 Y1 X2 X3') +\n",
        "    0.04544288414432624 * QubitOperator('Y0 Y1 Y2 Y3'))\n",
        "nuclear_repulsion_energy = 0.70556961456"
      ],
      "execution_count": null,
      "outputs": []
    },
    {
      "cell_type": "code",
      "metadata": {
        "id": "mNIV36acBfZ1"
      },
      "source": [
        "#definining the ansatz (hardwar efficient)\n",
        "from pytket import Circuit\n",
        "\n",
        "def hea(params):\n",
        "    ansatz = Circuit(4)\n",
        "    for i in range(4) :\n",
        "        ansatz.Ry(params[i], i)\n",
        "    for i in range(3) :\n",
        "        ansatz.CX(i, i+1)\n",
        "    for i in range(4) :\n",
        "        ansatz.Ry(params[4+i], i)\n",
        "    return ansatz"
      ],
      "execution_count": null,
      "outputs": []
    },
    {
      "cell_type": "code",
      "metadata": {
        "id": "_iDQ5lZ6Bh3o"
      },
      "source": [
        "from pytket.backends.ibm import AerBackend\n",
        "from pytket.utils import expectation_from_counts\n",
        "\n",
        "backend = AerBackend()\n",
        "\n",
        "# creating the optimisation function that uses classical computing to optimise the objective\n",
        "def objective(params):\n",
        "    energy = 0\n",
        "    for term, coeff in hamiltonian.terms.items():\n",
        "        if not term:\n",
        "            energy += coeff\n",
        "            continue\n",
        "        circ = hea(params)\n",
        "        circ.add_c_register(\"c\", len(term))\n",
        "        for i, (q, pauli) in enumerate(term):\n",
        "            if pauli == 'X':\n",
        "                circ.H(q)\n",
        "            elif pauli == 'Y':\n",
        "                circ.V(q)\n",
        "            circ.Measure(q, i)\n",
        "        backend.compile_circuit(circ)\n",
        "        counts = backend.get_counts(circ, n_shots=4000)\n",
        "        energy += coeff * expectation_from_counts(counts)\n",
        "    return energy + nuclear_repulsion_energy"
      ],
      "execution_count": null,
      "outputs": []
    },
    {
      "cell_type": "code",
      "metadata": {
        "colab": {
          "base_uri": "https://localhost:8080/"
        },
        "id": "dKrW2qN6BkPv",
        "outputId": "7df06b0a-f18a-4090-d167-33a51cfe06b7"
      },
      "source": [
        "#inputing the parameter values to retrieve the lowest energy\n",
        "arg_values = [-7.31158201e-02, -1.64514836e-04, 1.12585591e-03, -2.58367544e-03,\n",
        "  1.00006068e+00, -1.19551357e-03, 9.99963988e-01, 2.53283285e-03]\n",
        "\n",
        "energy = objective(arg_values)\n",
        "print(energy)"
      ],
      "execution_count": null,
      "outputs": [
        {
          "output_type": "stream",
          "text": [
            "-1.1333824130270784\n"
          ],
          "name": "stdout"
        }
      ]
    },
    {
      "cell_type": "markdown",
      "metadata": {
        "id": "tPG1kU7DdPVy"
      },
      "source": [
        "#Repeating the process with tket optimizations"
      ]
    },
    {
      "cell_type": "code",
      "metadata": {
        "id": "iKnDSCUwBmr3"
      },
      "source": [
        "from pytket.pauli import Pauli, QubitPauliString\n",
        "from pytket.circuit import Qubit\n",
        "\n",
        "q = [Qubit(i) for i in range(4)]\n",
        "xyii = QubitPauliString([q[0], q[1]], [Pauli.X, Pauli.Y])\n",
        "yxii = QubitPauliString([q[0], q[1]], [Pauli.Y, Pauli.X])\n",
        "iixy = QubitPauliString([q[2], q[3]], [Pauli.X, Pauli.Y])\n",
        "iiyx = QubitPauliString([q[2], q[3]], [Pauli.Y, Pauli.X])\n",
        "xxxy = QubitPauliString(q, [Pauli.X, Pauli.X, Pauli.X, Pauli.Y])\n",
        "xxyx = QubitPauliString(q, [Pauli.X, Pauli.X, Pauli.Y, Pauli.X])\n",
        "xyxx = QubitPauliString(q, [Pauli.X, Pauli.Y, Pauli.X, Pauli.X])\n",
        "yxxx = QubitPauliString(q, [Pauli.Y, Pauli.X, Pauli.X, Pauli.X])\n",
        "yyyx = QubitPauliString(q, [Pauli.Y, Pauli.Y, Pauli.Y, Pauli.X])\n",
        "yyxy = QubitPauliString(q, [Pauli.Y, Pauli.Y, Pauli.X, Pauli.Y])\n",
        "yxyy = QubitPauliString(q, [Pauli.Y, Pauli.X, Pauli.Y, Pauli.Y])\n",
        "xyyy = QubitPauliString(q, [Pauli.X, Pauli.Y, Pauli.Y, Pauli.Y])\n",
        "\n",
        "singles_a = {xyii : 1., yxii : -1.}\n",
        "singles_b = {iixy : 1., iiyx : -1.}\n",
        "doubles = {\n",
        "    xxxy : 0.25,\n",
        "    xxyx : -0.25,\n",
        "    xyxx : 0.25,\n",
        "    yxxx : -0.25,\n",
        "    yyyx : -0.25,\n",
        "    yxyy : -0.25,\n",
        "    xyyy : 0.25,\n",
        "}"
      ],
      "execution_count": null,
      "outputs": []
    },
    {
      "cell_type": "code",
      "metadata": {
        "id": "4ApQgBBeBqDH"
      },
      "source": [
        "def add_operator_term(circuit : Circuit, term : QubitPauliString, angle : float):\n",
        "    qubits = []\n",
        "    for q, p in term.to_dict().items():\n",
        "        if p != Pauli.I:\n",
        "            qubits.append(q)\n",
        "            if p == Pauli.X:\n",
        "                circuit.H(q)\n",
        "            elif p == Pauli.Y:\n",
        "                circuit.V(q)\n",
        "    for i in range(len(qubits)-1):\n",
        "        circuit.CX(i, i+1)\n",
        "    circuit.Rz(angle, len(qubits)-1)\n",
        "    for i in reversed(range(len(qubits)-1)):\n",
        "        circuit.CX(i, i+1)\n",
        "    for q, p in term.to_dict().items():\n",
        "        if p == Pauli.X:\n",
        "            circuit.H(q)\n",
        "        elif p == Pauli.Y:\n",
        "            circuit.Vdg(q)\n",
        "\n",
        "# Unitary Coupled Cluster Singles & Doubles ansatz\n",
        "def ucc(params):\n",
        "    ansatz = Circuit(4)\n",
        "    # Set initial reference state\n",
        "    ansatz.X(1).X(3)\n",
        "    # Evolve by excitations\n",
        "    for term, coeff in singles_a.items():\n",
        "        add_operator_term(ansatz, term, coeff * params[0])\n",
        "    for term, coeff in singles_b.items():\n",
        "        add_operator_term(ansatz, term, coeff * params[1])\n",
        "    for term, coeff in doubles.items():\n",
        "        add_operator_term(ansatz, term, coeff * params[2])\n",
        "    return ansatz"
      ],
      "execution_count": null,
      "outputs": []
    },
    {
      "cell_type": "code",
      "metadata": {
        "id": "jPYUZ83EBwxD"
      },
      "source": [
        "from pytket.circuit import PauliExpBox\n",
        "from pytket.passes import DecomposeBoxes\n",
        "\n",
        "def add_excitation(circ, term_dict, param):\n",
        "    for term, coeff in term_dict.items():\n",
        "        qubits, paulis = zip(*term.to_dict().items())\n",
        "        pbox = PauliExpBox(paulis, coeff * param)\n",
        "        circ.add_pauliexpbox(pbox, qubits)\n",
        "\n",
        "# UCC ansatz with syntactic shortcuts\n",
        "def ucc(params):\n",
        "    ansatz = Circuit(4)\n",
        "    ansatz.X(1).X(3)\n",
        "    add_excitation(ansatz, singles_a, params[0])\n",
        "    add_excitation(ansatz, singles_b, params[1])\n",
        "    add_excitation(ansatz, doubles, params[2])\n",
        "    DecomposeBoxes().apply(ansatz)\n",
        "    return ansatz"
      ],
      "execution_count": null,
      "outputs": []
    },
    {
      "cell_type": "code",
      "metadata": {
        "id": "Ii_00jlLByIe"
      },
      "source": [
        "from pytket.utils.operators import QubitPauliOperator\n",
        "from pytket.utils import get_operator_expectation_value\n",
        "\n",
        "hamiltonian_op = QubitPauliOperator.from_OpenFermion(hamiltonian)\n",
        "\n",
        "# Simplified objective function using utilities\n",
        "def objective(params):\n",
        "    circ = ucc(params)\n",
        "    return get_operator_expectation_value(circ, hamiltonian_op, backend, n_shots=4000) + nuclear_repulsion_energy"
      ],
      "execution_count": null,
      "outputs": []
    },
    {
      "cell_type": "code",
      "metadata": {
        "colab": {
          "base_uri": "https://localhost:8080/"
        },
        "id": "LhONdMg8B1xl",
        "outputId": "17bc3482-022d-4b0e-b10d-3e3d2d3caa10"
      },
      "source": [
        "arg_values = [-3.79002933e-05, 2.42964799e-05, 4.63447157e-01]\n",
        "\n",
        "energy = objective(arg_values)\n",
        "print(energy)"
      ],
      "execution_count": null,
      "outputs": [
        {
          "output_type": "stream",
          "text": [
            "-1.13977910049376\n"
          ],
          "name": "stdout"
        }
      ]
    },
    {
      "cell_type": "markdown",
      "metadata": {
        "id": "5qhcZW0kdglV"
      },
      "source": [
        "# Measuring efficiency in terms of gate reductions"
      ]
    },
    {
      "cell_type": "code",
      "metadata": {
        "colab": {
          "base_uri": "https://localhost:8080/"
        },
        "id": "t3VZPbf8B4DG",
        "outputId": "5a4d81b8-d1fc-4f4c-db56-3a67b92f16cb"
      },
      "source": [
        "from pytket import OpType\n",
        "from pytket.passes import FullPeepholeOptimise\n",
        "test_circuit = ucc(arg_values)\n",
        "\n",
        "print(\"CX count before\", test_circuit.n_gates_of_type(OpType.CX))\n",
        "print(\"CX depth before\", test_circuit.depth_by_type(OpType.CX))\n",
        "\n",
        "FullPeepholeOptimise().apply(test_circuit)\n",
        "\n",
        "print(\"CX count after FPO\", test_circuit.n_gates_of_type(OpType.CX))\n",
        "print(\"CX depth after FPO\", test_circuit.depth_by_type(OpType.CX))"
      ],
      "execution_count": null,
      "outputs": [
        {
          "output_type": "stream",
          "text": [
            "CX count before 56\n",
            "CX depth before 52\n",
            "CX count after FPO 30\n",
            "CX depth after FPO 28\n"
          ],
          "name": "stdout"
        }
      ]
    },
    {
      "cell_type": "code",
      "metadata": {
        "colab": {
          "base_uri": "https://localhost:8080/"
        },
        "id": "X_7tJpGIB6Dl",
        "outputId": "c06c2f6b-b0b0-4608-83d3-c8359543f581"
      },
      "source": [
        "from pytket.passes import PauliSimp\n",
        "test_circuit = ucc(arg_values)\n",
        "\n",
        "print(\"CX count before\", test_circuit.n_gates_of_type(OpType.CX))\n",
        "print(\"CX depth before\", test_circuit.depth_by_type(OpType.CX))\n",
        "\n",
        "PauliSimp().apply(test_circuit)\n",
        "\n",
        "print(\"CX count after PS\", test_circuit.n_gates_of_type(OpType.CX))\n",
        "print(\"CX depth after PS\", test_circuit.depth_by_type(OpType.CX))\n",
        "\n",
        "FullPeepholeOptimise().apply(test_circuit)\n",
        "\n",
        "print(\"CX count after PS+FPO\", test_circuit.n_gates_of_type(OpType.CX))\n",
        "print(\"CX depth after PS+FPO\", test_circuit.depth_by_type(OpType.CX))"
      ],
      "execution_count": null,
      "outputs": [
        {
          "output_type": "stream",
          "text": [
            "CX count before 56\n",
            "CX depth before 52\n",
            "CX count after PS 30\n",
            "CX depth after PS 25\n",
            "CX count after PS+FPO 21\n",
            "CX depth after PS+FPO 19\n"
          ],
          "name": "stdout"
        }
      ]
    },
    {
      "cell_type": "code",
      "metadata": {
        "id": "nzHXTVw6B8et"
      },
      "source": [
        "# Including the process of circuit simplification and optimisation into our objective function\n",
        "def objective(params):\n",
        "    circ = ucc(params)\n",
        "    PauliSimp().apply(circ)\n",
        "    FullPeepholeOptimise().apply(circ)\n",
        "    return get_operator_expectation_value(circ, hamiltonian_op, backend, n_shots=4000) + nuclear_repulsion_energy"
      ],
      "execution_count": null,
      "outputs": []
    },
    {
      "cell_type": "markdown",
      "metadata": {
        "id": "7-glqp-VeUsM"
      },
      "source": [
        "# Including further tket optimizations to reduce the amount of computation"
      ]
    },
    {
      "cell_type": "code",
      "metadata": {
        "id": "y9UywWLLB_Uv"
      },
      "source": [
        "from pytket.passes import GuidedPauliSimp\n",
        "from pytket.utils import gen_term_sequence_circuit\n",
        "\n",
        "def ucc(params):\n",
        "    singles_params = {qps : params[0] * coeff for qps, coeff in singles.items()}\n",
        "    doubles_params = {qps : params[1] * coeff for qps, coeff in doubles.items()}\n",
        "    excitation_op = QubitPauliOperator({**singles_params, **doubles_params})\n",
        "    reference_circ = Circuit(4).X(1).X(3)\n",
        "    ansatz = gen_term_sequence_circuit(excitation_op, reference_circ)\n",
        "    GuidedPauliSimp().apply(ansatz)\n",
        "    FullPeepholeOptimise().apply(ansatz)\n",
        "    return ansatz"
      ],
      "execution_count": null,
      "outputs": []
    },
    {
      "cell_type": "code",
      "metadata": {
        "id": "G7c7lUX7CBwk"
      },
      "source": [
        "from sympy import symbols\n",
        "\n",
        "# Symbolic UCC ansatz generation\n",
        "syms = symbols(\"p0 p1 p2\")\n",
        "singles_a_syms = {qps : syms[0] * coeff for qps, coeff in singles_a.items()}\n",
        "singles_b_syms = {qps : syms[1] * coeff for qps, coeff in singles_b.items()}\n",
        "doubles_syms = {qps : syms[2] * coeff for qps, coeff in doubles.items()}\n",
        "excitation_op = QubitPauliOperator({**singles_a_syms, **singles_b_syms, **doubles_syms})\n",
        "ucc_ref = Circuit(4).X(1).X(3)\n",
        "ucc = gen_term_sequence_circuit(excitation_op, ucc_ref)\n",
        "GuidedPauliSimp().apply(ucc)\n",
        "FullPeepholeOptimise().apply(ucc)\n",
        "\n",
        "# Objective function using the symbolic ansatz\n",
        "def objective(params):\n",
        "    circ = ucc.copy()\n",
        "    sym_map = dict(zip(syms, params))\n",
        "    circ.symbol_substitution(sym_map)\n",
        "    return get_operator_expectation_value(circ, hamiltonian_op, backend, n_shots=4000) + nuclear_repulsion_energy\n"
      ],
      "execution_count": null,
      "outputs": []
    },
    {
      "cell_type": "markdown",
      "metadata": {
        "id": "o_Rtibf8eegy"
      },
      "source": [
        "# defining the most optimized objective function"
      ]
    },
    {
      "cell_type": "code",
      "metadata": {
        "id": "W7BkkcSXCGnb"
      },
      "source": [
        "from pytket.partition import PauliPartitionStrat\n",
        "\n",
        "# Objective function using measurement reduction\n",
        "def objective(params):\n",
        "    circ = ucc.copy()\n",
        "    sym_map = dict(zip(syms, params))\n",
        "    circ.symbol_substitution(sym_map)\n",
        "    return get_operator_expectation_value(\n",
        "        circ, operator, backend,\n",
        "        n_shots=4000,\n",
        "        partition_strat=PauliPartitionStrat.CommutingSets,\n",
        "    ) + nuclear_repulsion_energy"
      ],
      "execution_count": null,
      "outputs": []
    },
    {
      "cell_type": "markdown",
      "metadata": {
        "id": "M5Pps0aheiCc"
      },
      "source": [
        "# Final tket optimized VQE running on IBM Aer simulator"
      ]
    },
    {
      "cell_type": "code",
      "metadata": {
        "colab": {
          "base_uri": "https://localhost:8080/"
        },
        "id": "XPCa4CylCJCT",
        "outputId": "d5f53784-ee6a-4e0f-b002-d0fa85d043bf"
      },
      "source": [
        "from openfermion import QubitOperator\n",
        "from scipy.optimize import minimize\n",
        "from sympy import symbols\n",
        "\n",
        "from pytket.backends.ibm import AerBackend\n",
        "from pytket.circuit import Circuit, Qubit\n",
        "from pytket.partition import PauliPartitionStrat\n",
        "from pytket.passes import GuidedPauliSimp, FullPeepholeOptimise\n",
        "from pytket.pauli import Pauli, QubitPauliString\n",
        "from pytket.utils import get_operator_expectation_value, gen_term_sequence_circuit\n",
        "from pytket.utils.operators import QubitPauliOperator\n",
        "\n",
        "# Obtain electronic Hamiltonian\n",
        "hamiltonian = (-0.8153001706270075 * QubitOperator('') +\n",
        "    0.16988452027940318 * QubitOperator('Z0') +\n",
        "    -0.21886306781219608 * QubitOperator('Z1') +\n",
        "    0.16988452027940323 * QubitOperator('Z2') +\n",
        "    -0.2188630678121961 * QubitOperator('Z3') +\n",
        "    0.12005143072546047 * QubitOperator('Z0 Z1') +\n",
        "    0.16821198673715723 * QubitOperator('Z0 Z2') +\n",
        "    0.16549431486978672 * QubitOperator('Z0 Z3') +\n",
        "    0.16549431486978672 * QubitOperator('Z1 Z2') +\n",
        "    0.1739537877649417 * QubitOperator('Z1 Z3') +\n",
        "    0.12005143072546047 * QubitOperator('Z2 Z3') +\n",
        "    0.04544288414432624 * QubitOperator('X0 X1 X2 X3') +\n",
        "    0.04544288414432624 * QubitOperator('X0 X1 Y2 Y3') +\n",
        "    0.04544288414432624 * QubitOperator('Y0 Y1 X2 X3') +\n",
        "    0.04544288414432624 * QubitOperator('Y0 Y1 Y2 Y3'))\n",
        "nuclear_repulsion_energy = 0.70556961456\n",
        "\n",
        "hamiltonian_op = QubitPauliOperator.from_OpenFermion(hamiltonian)\n",
        "\n",
        "# Obtain terms for single and double excitations\n",
        "q = [Qubit(i) for i in range(4)]\n",
        "xyii = QubitPauliString([q[0], q[1]], [Pauli.X, Pauli.Y])\n",
        "yxii = QubitPauliString([q[0], q[1]], [Pauli.Y, Pauli.X])\n",
        "iixy = QubitPauliString([q[2], q[3]], [Pauli.X, Pauli.Y])\n",
        "iiyx = QubitPauliString([q[2], q[3]], [Pauli.Y, Pauli.X])\n",
        "xxxy = QubitPauliString(q, [Pauli.X, Pauli.X, Pauli.X, Pauli.Y])\n",
        "xxyx = QubitPauliString(q, [Pauli.X, Pauli.X, Pauli.Y, Pauli.X])\n",
        "xyxx = QubitPauliString(q, [Pauli.X, Pauli.Y, Pauli.X, Pauli.X])\n",
        "yxxx = QubitPauliString(q, [Pauli.Y, Pauli.X, Pauli.X, Pauli.X])\n",
        "yyyx = QubitPauliString(q, [Pauli.Y, Pauli.Y, Pauli.Y, Pauli.X])\n",
        "yyxy = QubitPauliString(q, [Pauli.Y, Pauli.Y, Pauli.X, Pauli.Y])\n",
        "yxyy = QubitPauliString(q, [Pauli.Y, Pauli.X, Pauli.Y, Pauli.Y])\n",
        "xyyy = QubitPauliString(q, [Pauli.X, Pauli.Y, Pauli.Y, Pauli.Y])\n",
        "\n",
        "# Symbolic UCC ansatz generation\n",
        "syms = symbols(\"p0 p1 p2\")\n",
        "singles_syms = {xyii : syms[0], yxii : -syms[0], iixy : syms[1], iiyx : -syms[1]}\n",
        "doubles_syms = {\n",
        "    xxxy : 0.25*syms[2],\n",
        "    xxyx : -0.25*syms[2],\n",
        "    xyxx : 0.25*syms[2],\n",
        "    yxxx : -0.25*syms[2],\n",
        "    yyyx : -0.25*syms[2],\n",
        "    yyxy : 0.25*syms[2],\n",
        "    yxyy : -0.25*syms[2],\n",
        "    xyyy : 0.25*syms[2],\n",
        "}\n",
        "excitation_op = QubitPauliOperator({**singles_syms, **doubles_syms})\n",
        "ucc_ref = Circuit(4).X(0).X(2)\n",
        "ucc = gen_term_sequence_circuit(excitation_op, ucc_ref)\n",
        "\n",
        "# Circuit simplification\n",
        "GuidedPauliSimp().apply(ucc)\n",
        "FullPeepholeOptimise().apply(ucc)\n",
        "\n",
        "# Connect to a simulator/device\n",
        "backend = AerBackend()\n",
        "\n",
        "# Objective function\n",
        "def objective(params):\n",
        "    circ = ucc.copy()\n",
        "    sym_map = dict(zip(syms, params))\n",
        "    circ.symbol_substitution(sym_map)\n",
        "    return get_operator_expectation_value(\n",
        "        circ, hamiltonian_op, backend,\n",
        "        n_shots=4000,\n",
        "        partition_strat=PauliPartitionStrat.CommutingSets,\n",
        "    ) + nuclear_repulsion_energy\n",
        "\n",
        "# Optimise against the objective function\n",
        "initial_params = [1e-4, 1e-4, 4e-1]\n",
        "result = minimize(objective, initial_params, method=\"Nelder-Mead\")\n",
        "print(\"Final parameter values\", result.x)\n",
        "print(\"Final energy value\", result.fun)"
      ],
      "execution_count": null,
      "outputs": [
        {
          "output_type": "stream",
          "text": [
            "Final parameter values [ 0.00013154  0.00015386 -0.03824673]\n",
            "Final energy value -1.1489176373381045\n"
          ],
          "name": "stdout"
        }
      ]
    },
    {
      "cell_type": "markdown",
      "metadata": {
        "id": "B7a0usfMeqVy"
      },
      "source": [
        "# Final tket optimized VQE running on Qulacs NISQ simulator"
      ]
    },
    {
      "cell_type": "code",
      "metadata": {
        "colab": {
          "base_uri": "https://localhost:8080/"
        },
        "id": "G6noXYEJCfAi",
        "outputId": "afc94704-d309-4799-ccf6-7f07a76bd424"
      },
      "source": [
        "from openfermion import QubitOperator\n",
        "from scipy.optimize import minimize\n",
        "from sympy import symbols\n",
        "from pytket.backends.qulacs import QulacsBackend\n",
        "\n",
        "from pytket.backends.ibm import AerBackend\n",
        "from pytket.circuit import Circuit, Qubit\n",
        "from pytket.partition import PauliPartitionStrat\n",
        "from pytket.passes import GuidedPauliSimp, FullPeepholeOptimise\n",
        "from pytket.pauli import Pauli, QubitPauliString\n",
        "from pytket.utils import get_operator_expectation_value, gen_term_sequence_circuit\n",
        "from pytket.utils.operators import QubitPauliOperator\n",
        "\n",
        "# Obtain electronic Hamiltonian\n",
        "hamiltonian = (-0.8153001706270075 * QubitOperator('') +\n",
        "    0.16988452027940318 * QubitOperator('Z0') +\n",
        "    -0.21886306781219608 * QubitOperator('Z1') +\n",
        "    0.16988452027940323 * QubitOperator('Z2') +\n",
        "    -0.2188630678121961 * QubitOperator('Z3') +\n",
        "    0.12005143072546047 * QubitOperator('Z0 Z1') +\n",
        "    0.16821198673715723 * QubitOperator('Z0 Z2') +\n",
        "    0.16549431486978672 * QubitOperator('Z0 Z3') +\n",
        "    0.16549431486978672 * QubitOperator('Z1 Z2') +\n",
        "    0.1739537877649417 * QubitOperator('Z1 Z3') +\n",
        "    0.12005143072546047 * QubitOperator('Z2 Z3') +\n",
        "    0.04544288414432624 * QubitOperator('X0 X1 X2 X3') +\n",
        "    0.04544288414432624 * QubitOperator('X0 X1 Y2 Y3') +\n",
        "    0.04544288414432624 * QubitOperator('Y0 Y1 X2 X3') +\n",
        "    0.04544288414432624 * QubitOperator('Y0 Y1 Y2 Y3'))\n",
        "nuclear_repulsion_energy = 0.70556961456\n",
        "\n",
        "hamiltonian_op = QubitPauliOperator.from_OpenFermion(hamiltonian)\n",
        "\n",
        "# Obtain terms for single and double excitations\n",
        "q = [Qubit(i) for i in range(4)]\n",
        "xyii = QubitPauliString([q[0], q[1]], [Pauli.X, Pauli.Y])\n",
        "yxii = QubitPauliString([q[0], q[1]], [Pauli.Y, Pauli.X])\n",
        "iixy = QubitPauliString([q[2], q[3]], [Pauli.X, Pauli.Y])\n",
        "iiyx = QubitPauliString([q[2], q[3]], [Pauli.Y, Pauli.X])\n",
        "xxxy = QubitPauliString(q, [Pauli.X, Pauli.X, Pauli.X, Pauli.Y])\n",
        "xxyx = QubitPauliString(q, [Pauli.X, Pauli.X, Pauli.Y, Pauli.X])\n",
        "xyxx = QubitPauliString(q, [Pauli.X, Pauli.Y, Pauli.X, Pauli.X])\n",
        "yxxx = QubitPauliString(q, [Pauli.Y, Pauli.X, Pauli.X, Pauli.X])\n",
        "yyyx = QubitPauliString(q, [Pauli.Y, Pauli.Y, Pauli.Y, Pauli.X])\n",
        "yyxy = QubitPauliString(q, [Pauli.Y, Pauli.Y, Pauli.X, Pauli.Y])\n",
        "yxyy = QubitPauliString(q, [Pauli.Y, Pauli.X, Pauli.Y, Pauli.Y])\n",
        "xyyy = QubitPauliString(q, [Pauli.X, Pauli.Y, Pauli.Y, Pauli.Y])\n",
        "\n",
        "# Symbolic UCC ansatz generation\n",
        "syms = symbols(\"p0 p1 p2\")\n",
        "singles_syms = {xyii : syms[0], yxii : -syms[0], iixy : syms[1], iiyx : -syms[1]}\n",
        "doubles_syms = {\n",
        "    xxxy : 0.25*syms[2],\n",
        "    xxyx : -0.25*syms[2],\n",
        "    xyxx : 0.25*syms[2],\n",
        "    yxxx : -0.25*syms[2],\n",
        "    yyyx : -0.25*syms[2],\n",
        "    yyxy : 0.25*syms[2],\n",
        "    yxyy : -0.25*syms[2],\n",
        "    xyyy : 0.25*syms[2],\n",
        "}\n",
        "excitation_op = QubitPauliOperator({**singles_syms, **doubles_syms})\n",
        "ucc_ref = Circuit(4).X(0).X(2)\n",
        "ucc = gen_term_sequence_circuit(excitation_op, ucc_ref)\n",
        "\n",
        "# Circuit simplification\n",
        "GuidedPauliSimp().apply(ucc)\n",
        "FullPeepholeOptimise().apply(ucc)\n",
        "\n",
        "# Connect to a simulator/device\n",
        "backend = QulacsBackend()\n",
        "\n",
        "# Objective function\n",
        "def objective(params):\n",
        "    circ = ucc.copy()\n",
        "    sym_map = dict(zip(syms, params))\n",
        "    circ.symbol_substitution(sym_map)\n",
        "    return get_operator_expectation_value(\n",
        "        circ, hamiltonian_op, backend,\n",
        "        n_shots=4000,\n",
        "        partition_strat=PauliPartitionStrat.CommutingSets,\n",
        "    ) + nuclear_repulsion_energy\n",
        "\n",
        "# Optimise against the objective function\n",
        "initial_params = [1e-4, 1e-4, 4e-1]\n",
        "result = minimize(objective, initial_params, method=\"Nelder-Mead\")\n",
        "print(\"Final parameter values\", result.x)\n",
        "print(\"Final energy value\", result.fun)"
      ],
      "execution_count": null,
      "outputs": [
        {
          "output_type": "stream",
          "text": [
            "Final parameter values [ 0.00015757  0.00013549 -0.045553  ]\n",
            "Final energy value -1.1525988847400837\n"
          ],
          "name": "stdout"
        }
      ]
    },
    {
      "cell_type": "code",
      "metadata": {
        "id": "4Ivbj-jtCkRo"
      },
      "source": [
        ""
      ],
      "execution_count": null,
      "outputs": []
    }
  ]
}